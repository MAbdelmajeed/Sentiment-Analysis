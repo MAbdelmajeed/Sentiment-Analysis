{
 "cells": [
  {
   "cell_type": "code",
   "execution_count": 1,
   "id": "5be9480c",
   "metadata": {
    "ExecuteTime": {
     "end_time": "2023-11-17T10:54:25.634817Z",
     "start_time": "2023-11-17T10:54:23.135303Z"
    }
   },
   "outputs": [
    {
     "name": "stdout",
     "output_type": "stream",
     "text": [
      "Setup Complete\n"
     ]
    }
   ],
   "source": [
    "#Loading libraries:\n",
    "import pandas as pd\n",
    "import numpy as np\n",
    "from textblob import TextBlob\n",
    "from IPython.display import FileLink\n",
    "\n",
    "print('Setup Complete')\n"
   ]
  },
  {
   "cell_type": "code",
   "execution_count": 8,
   "id": "b2b6333a",
   "metadata": {
    "ExecuteTime": {
     "end_time": "2023-11-17T10:56:10.022382Z",
     "start_time": "2023-11-17T10:56:09.957135Z"
    }
   },
   "outputs": [],
   "source": [
    "# Loading the data:\n",
    "path = 'C:\\HOME\\Desktop\\Interesting datasets\\GitHub Projects\\Sentiment Analysis_Unlabeld\\Twitter Product Sentiment Analysis.csv'\n",
    "df = pd.read_csv(path)"
   ]
  },
  {
   "cell_type": "code",
   "execution_count": 9,
   "id": "d0d8c465",
   "metadata": {
    "ExecuteTime": {
     "end_time": "2023-11-17T10:57:28.916317Z",
     "start_time": "2023-11-17T10:57:24.357490Z"
    },
    "scrolled": false
   },
   "outputs": [
    {
     "data": {
      "text/html": [
       "<div>\n",
       "<style scoped>\n",
       "    .dataframe tbody tr th:only-of-type {\n",
       "        vertical-align: middle;\n",
       "    }\n",
       "\n",
       "    .dataframe tbody tr th {\n",
       "        vertical-align: top;\n",
       "    }\n",
       "\n",
       "    .dataframe thead th {\n",
       "        text-align: right;\n",
       "    }\n",
       "</style>\n",
       "<table border=\"1\" class=\"dataframe\">\n",
       "  <thead>\n",
       "    <tr style=\"text-align: right;\">\n",
       "      <th></th>\n",
       "      <th>id</th>\n",
       "      <th>tweet</th>\n",
       "      <th>polarity</th>\n",
       "      <th>subjectivity</th>\n",
       "      <th>sentiment_value</th>\n",
       "    </tr>\n",
       "  </thead>\n",
       "  <tbody>\n",
       "    <tr>\n",
       "      <th>0</th>\n",
       "      <td>1</td>\n",
       "      <td>#fingerprint #Pregnancy Test https://goo.gl/h1...</td>\n",
       "      <td>0.675000</td>\n",
       "      <td>1.000000</td>\n",
       "      <td>Positive</td>\n",
       "    </tr>\n",
       "    <tr>\n",
       "      <th>1</th>\n",
       "      <td>2</td>\n",
       "      <td>Finally a transparant silicon case ^^ Thanks t...</td>\n",
       "      <td>0.233333</td>\n",
       "      <td>0.733333</td>\n",
       "      <td>Positive</td>\n",
       "    </tr>\n",
       "    <tr>\n",
       "      <th>2</th>\n",
       "      <td>3</td>\n",
       "      <td>We love this! Would you go? #talk #makememorie...</td>\n",
       "      <td>0.625000</td>\n",
       "      <td>0.600000</td>\n",
       "      <td>Positive</td>\n",
       "    </tr>\n",
       "    <tr>\n",
       "      <th>3</th>\n",
       "      <td>4</td>\n",
       "      <td>I'm wired I know I'm George I was made that wa...</td>\n",
       "      <td>0.375000</td>\n",
       "      <td>1.000000</td>\n",
       "      <td>Positive</td>\n",
       "    </tr>\n",
       "    <tr>\n",
       "      <th>4</th>\n",
       "      <td>5</td>\n",
       "      <td>What amazing service! Apple won't even talk to...</td>\n",
       "      <td>-0.125000</td>\n",
       "      <td>0.950000</td>\n",
       "      <td>Negative</td>\n",
       "    </tr>\n",
       "  </tbody>\n",
       "</table>\n",
       "</div>"
      ],
      "text/plain": [
       "   id                                              tweet  polarity  \\\n",
       "0   1  #fingerprint #Pregnancy Test https://goo.gl/h1...  0.675000   \n",
       "1   2  Finally a transparant silicon case ^^ Thanks t...  0.233333   \n",
       "2   3  We love this! Would you go? #talk #makememorie...  0.625000   \n",
       "3   4  I'm wired I know I'm George I was made that wa...  0.375000   \n",
       "4   5  What amazing service! Apple won't even talk to... -0.125000   \n",
       "\n",
       "   subjectivity sentiment_value  \n",
       "0      1.000000        Positive  \n",
       "1      0.733333        Positive  \n",
       "2      0.600000        Positive  \n",
       "3      1.000000        Positive  \n",
       "4      0.950000        Negative  "
      ]
     },
     "execution_count": 9,
     "metadata": {},
     "output_type": "execute_result"
    }
   ],
   "source": [
    "# Function to categorize sentiment based on polarity score\n",
    "def categorize_sentiment(polarity):\n",
    "    if polarity > 0:\n",
    "        return 'Positive'\n",
    "    elif polarity < 0:\n",
    "        return 'Negative'\n",
    "    else:\n",
    "        return 'Neutral'\n",
    "\n",
    "# Apply TextBlob sentiment analysis to each tweet and get polarity and subjectivity\n",
    "df['polarity'] = df['tweet'].apply(lambda x: TextBlob(x).sentiment.polarity)\n",
    "df['subjectivity'] = df['tweet'].apply(lambda x: TextBlob(x).sentiment.subjectivity)\n",
    "\n",
    "# Apply the categorization function to the polarity\n",
    "df['sentiment_value'] = df['polarity'].apply(categorize_sentiment)\n",
    "\n",
    "# Display the DataFrame with the new columns\n",
    "df.head(5)\n"
   ]
  },
  {
   "cell_type": "code",
   "execution_count": 10,
   "id": "7a0c6e09",
   "metadata": {
    "ExecuteTime": {
     "end_time": "2023-11-17T10:57:28.932044Z",
     "start_time": "2023-11-17T10:57:28.920361Z"
    }
   },
   "outputs": [],
   "source": [
    "# Making a copy of the df:\n",
    "df_TextBlob=df.copy()"
   ]
  },
  {
   "cell_type": "code",
   "execution_count": 11,
   "id": "2799ca99",
   "metadata": {
    "ExecuteTime": {
     "end_time": "2023-11-17T10:57:30.311345Z",
     "start_time": "2023-11-17T10:57:28.937526Z"
    }
   },
   "outputs": [
    {
     "data": {
      "text/html": [
       "<a href='df_TextBlob.xlsx' target='_blank'>df_TextBlob.xlsx</a><br>"
      ],
      "text/plain": [
       "C:\\Users\\Besitzer\\df_TextBlob.xlsx"
      ]
     },
     "execution_count": 11,
     "metadata": {},
     "output_type": "execute_result"
    }
   ],
   "source": [
    "# Creating the Excel file and the download link:\n",
    "df_TextBlob.to_excel('df_TextBlob.xlsx', index=False)\n",
    "FileLink(r'df_TextBlob.xlsx')"
   ]
  }
 ],
 "metadata": {
  "kernelspec": {
   "display_name": "Python 3 (ipykernel)",
   "language": "python",
   "name": "python3"
  },
  "language_info": {
   "codemirror_mode": {
    "name": "ipython",
    "version": 3
   },
   "file_extension": ".py",
   "mimetype": "text/x-python",
   "name": "python",
   "nbconvert_exporter": "python",
   "pygments_lexer": "ipython3",
   "version": "3.10.9"
  }
 },
 "nbformat": 4,
 "nbformat_minor": 5
}
