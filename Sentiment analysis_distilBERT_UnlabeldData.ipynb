{
 "cells": [
  {
   "cell_type": "code",
   "execution_count": 2,
   "id": "9aecb8c8",
   "metadata": {
    "ExecuteTime": {
     "end_time": "2023-11-17T11:01:45.818990Z",
     "start_time": "2023-11-17T11:01:45.805352Z"
    }
   },
   "outputs": [],
   "source": [
    "# Loading libraries:\n",
    "import pandas as pd\n",
    "import numpy as np\n",
    "import time\n",
    "from transformers import pipeline\n",
    "from IPython.display import FileLink\n"
   ]
  },
  {
   "cell_type": "code",
   "execution_count": 3,
   "id": "3df40def",
   "metadata": {
    "ExecuteTime": {
     "end_time": "2023-11-17T11:01:46.221254Z",
     "start_time": "2023-11-17T11:01:46.171274Z"
    }
   },
   "outputs": [],
   "source": [
    "# Loading the data:\n",
    "path = '...\\Twitter Product Sentiment Analysis.csv'\n",
    "df = pd.read_csv(path)"
   ]
  },
  {
   "cell_type": "code",
   "execution_count": 11,
   "id": "929c8f24",
   "metadata": {
    "ExecuteTime": {
     "end_time": "2023-11-17T11:07:54.608228Z",
     "start_time": "2023-11-17T11:07:54.599529Z"
    }
   },
   "outputs": [
    {
     "data": {
      "text/plain": [
       "9873"
      ]
     },
     "execution_count": 11,
     "metadata": {},
     "output_type": "execute_result"
    }
   ],
   "source": [
    "# Number of rows in the df:\n",
    "df.shape[0]"
   ]
  },
  {
   "cell_type": "code",
   "execution_count": 12,
   "id": "5ec53143",
   "metadata": {
    "ExecuteTime": {
     "end_time": "2023-11-17T11:08:38.803863Z",
     "start_time": "2023-11-17T11:08:38.798118Z"
    }
   },
   "outputs": [],
   "source": [
    "# Reducing the sizie of the df from 9873 to 100:\n",
    "df_l=df.head(100)"
   ]
  },
  {
   "cell_type": "code",
   "execution_count": 5,
   "id": "730c5197",
   "metadata": {
    "ExecuteTime": {
     "end_time": "2023-11-17T11:06:10.231866Z",
     "start_time": "2023-11-17T11:01:47.675458Z"
    },
    "scrolled": true
   },
   "outputs": [
    {
     "name": "stdout",
     "output_type": "stream",
     "text": [
      "     id                                              tweet sentiment_value\n",
      "0     1  #fingerprint #Pregnancy Test https://goo.gl/h1...        NEGATIVE\n",
      "1     2  Finally a transparant silicon case ^^ Thanks t...        POSITIVE\n",
      "2     3  We love this! Would you go? #talk #makememorie...        POSITIVE\n",
      "3     4  I'm wired I know I'm George I was made that wa...        NEGATIVE\n",
      "4     5  What amazing service! Apple won't even talk to...        NEGATIVE\n",
      "..  ...                                                ...             ...\n",
      "95   96  New Models #byhilalak #earphones #urbanears #h...        NEGATIVE\n",
      "96   97  Photo: #iTunes #vicio #nellyfurtado #nelstar #...        NEGATIVE\n",
      "97   98  See how many features you didn't know your iPh...        NEGATIVE\n",
      "98   99  Happiness in a box!!! Yey!!! #me #phone #sony ...        POSITIVE\n",
      "99  100  #feliz #sábado con #café #saturday with #coffe...        NEGATIVE\n",
      "\n",
      "[100 rows x 3 columns]\n"
     ]
    },
    {
     "name": "stderr",
     "output_type": "stream",
     "text": [
      "C:\\Users\\Besitzer\\AppData\\Local\\Temp\\ipykernel_21188\\4029425665.py:20: SettingWithCopyWarning: \n",
      "A value is trying to be set on a copy of a slice from a DataFrame.\n",
      "Try using .loc[row_indexer,col_indexer] = value instead\n",
      "\n",
      "See the caveats in the documentation: https://pandas.pydata.org/pandas-docs/stable/user_guide/indexing.html#returning-a-view-versus-a-copy\n",
      "  df_l['sentiment_value'] = sentiments\n"
     ]
    }
   ],
   "source": [
    "# Define the model name as a variable\n",
    "model_name = \"distilbert-base-uncased-finetuned-sst-2-english\"\n",
    "\n",
    "# Load a pretrained sentiment analysis model using the specified model name\n",
    "sentiment_analysis = pipeline(\"sentiment-analysis\", model=model_name)\n",
    "\n",
    "# Specifying the number of tweets to be handled per batch \n",
    "batch_size = 50\n",
    "batches = np.array_split(df_l['tweet'], len(df_l) // batch_size)\n",
    "\n",
    "# Apply the model to each batch\n",
    "results = [sentiment_analysis(batch.tolist()) for batch in batches]\n",
    "\n",
    "# Flatten the results and extract sentiment labels\n",
    "sentiments = [item['label'] for sublist in results for item in sublist]\n",
    "\n",
    "# Add the sentiments back to the DataFrame\n",
    "df_l['sentiment_value'] = sentiments\n",
    "\n",
    "# Display the DataFrame with the new column\n",
    "df_l.head(5)\n"
   ]
  },
  {
   "cell_type": "code",
   "execution_count": 7,
   "id": "a185c4c7",
   "metadata": {
    "ExecuteTime": {
     "end_time": "2023-11-17T11:06:46.934628Z",
     "start_time": "2023-11-17T11:06:46.880824Z"
    }
   },
   "outputs": [
    {
     "data": {
      "text/html": [
       "<a href='df_l.xlsx' target='_blank'>df_l.xlsx</a><br>"
      ],
      "text/plain": [
       "C:\\Users\\Besitzer\\df_l.xlsx"
      ]
     },
     "execution_count": 7,
     "metadata": {},
     "output_type": "execute_result"
    }
   ],
   "source": [
    "# Creating the Excle file and the download link:\n",
    "df_l.to_excel('df_l.xlsx', index=False)\n",
    "FileLink(r'df_l.xlsx')"
   ]
  },
  {
   "cell_type": "code",
   "execution_count": null,
   "id": "40e7faee",
   "metadata": {},
   "outputs": [],
   "source": []
  }
 ],
 "metadata": {
  "kernelspec": {
   "display_name": "Python 3 (ipykernel)",
   "language": "python",
   "name": "python3"
  },
  "language_info": {
   "codemirror_mode": {
    "name": "ipython",
    "version": 3
   },
   "file_extension": ".py",
   "mimetype": "text/x-python",
   "name": "python",
   "nbconvert_exporter": "python",
   "pygments_lexer": "ipython3",
   "version": "3.10.9"
  }
 },
 "nbformat": 4,
 "nbformat_minor": 5
}
