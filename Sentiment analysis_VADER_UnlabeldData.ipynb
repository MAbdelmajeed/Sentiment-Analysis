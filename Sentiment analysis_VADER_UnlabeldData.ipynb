{
 "cells": [
  {
   "cell_type": "code",
   "execution_count": 1,
   "id": "5be9480c",
   "metadata": {
    "ExecuteTime": {
     "end_time": "2023-11-17T10:06:39.740501Z",
     "start_time": "2023-11-17T10:06:35.486862Z"
    }
   },
   "outputs": [
    {
     "name": "stdout",
     "output_type": "stream",
     "text": [
      "Setup Complete\n"
     ]
    }
   ],
   "source": [
    "#Loading libraries:\n",
    "import pandas as pd\n",
    "import numpy as np\n",
    "import nltk\n",
    "from nltk.sentiment import SentimentIntensityAnalyzer\n",
    "from IPython.display import FileLink\n",
    "\n",
    "print('Setup Complete')\n"
   ]
  },
  {
   "cell_type": "code",
   "execution_count": 3,
   "id": "023ed223",
   "metadata": {
    "ExecuteTime": {
     "end_time": "2023-11-17T10:08:03.441664Z",
     "start_time": "2023-11-17T10:08:03.247298Z"
    },
    "scrolled": false
   },
   "outputs": [
    {
     "name": "stderr",
     "output_type": "stream",
     "text": [
      "[nltk_data] Downloading package vader_lexicon to\n",
      "[nltk_data]     C:\\Users\\Besitzer\\AppData\\Roaming\\nltk_data...\n",
      "[nltk_data]   Package vader_lexicon is already up-to-date!\n"
     ]
    },
    {
     "data": {
      "text/plain": [
       "True"
      ]
     },
     "execution_count": 3,
     "metadata": {},
     "output_type": "execute_result"
    }
   ],
   "source": [
    "# Loading the VADER lexicon:\n",
    "nltk.download('vader_lexicon')"
   ]
  },
  {
   "cell_type": "code",
   "execution_count": 4,
   "id": "b2b6333a",
   "metadata": {
    "ExecuteTime": {
     "end_time": "2023-11-17T10:08:04.592081Z",
     "start_time": "2023-11-17T10:08:04.546817Z"
    }
   },
   "outputs": [],
   "source": [
    "# Loading the data:\n",
    "path = '...\\Twitter Product Sentiment Analysis.csv'\n",
    "df = pd.read_csv(path)"
   ]
  },
  {
   "cell_type": "code",
   "execution_count": 7,
   "id": "d0d8c465",
   "metadata": {
    "ExecuteTime": {
     "end_time": "2023-11-17T10:08:39.635334Z",
     "start_time": "2023-11-17T10:08:37.739011Z"
    },
    "scrolled": false
   },
   "outputs": [
    {
     "name": "stdout",
     "output_type": "stream",
     "text": [
      "   id                                              tweet sentiment_value\n",
      "0   1  #fingerprint #Pregnancy Test https://goo.gl/h1...         Neutral\n",
      "1   2  Finally a transparant silicon case ^^ Thanks t...        Positive\n",
      "2   3  We love this! Would you go? #talk #makememorie...        Positive\n",
      "3   4  I'm wired I know I'm George I was made that wa...        Positive\n",
      "4   5  What amazing service! Apple won't even talk to...        Positive\n"
     ]
    }
   ],
   "source": [
    "# Initialize VADER's SentimentIntensityAnalyzer\n",
    "sia = SentimentIntensityAnalyzer()\n",
    "\n",
    "# Function to categorize sentiment based on compound score\n",
    "def categorize_sentiment(score):\n",
    "    if score >= 0.05:\n",
    "        return 'Positive'\n",
    "    elif score <= -0.05:\n",
    "        return 'Negative'\n",
    "    else:\n",
    "        return 'Neutral'\n",
    "\n",
    "# Apply VADER sentiment analysis to each tweet\n",
    "df['sentiment_value'] = df['tweet'].apply(lambda x: categorize_sentiment(sia.polarity_scores(x)['compound']))\n",
    "\n",
    "# Display the DataFrame with the new column\n",
    "print(df.head(5))\n"
   ]
  },
  {
   "cell_type": "code",
   "execution_count": 8,
   "id": "1dcf75bb",
   "metadata": {
    "ExecuteTime": {
     "end_time": "2023-11-17T10:09:14.494310Z",
     "start_time": "2023-11-17T10:09:14.477893Z"
    }
   },
   "outputs": [],
   "source": [
    "# Making acopy of the df:\n",
    "df_VADER=df.copy()"
   ]
  },
  {
   "cell_type": "code",
   "execution_count": 11,
   "id": "2799ca99",
   "metadata": {
    "ExecuteTime": {
     "end_time": "2023-11-17T10:10:15.200878Z",
     "start_time": "2023-11-17T10:10:14.456946Z"
    }
   },
   "outputs": [
    {
     "data": {
      "text/html": [
       "<a href='df_VADER.xlsx' target='_blank'>df_VADER.xlsx</a><br>"
      ],
      "text/plain": [
       "C:\\Users\\Besitzer\\df_VADER.xlsx"
      ]
     },
     "execution_count": 11,
     "metadata": {},
     "output_type": "execute_result"
    }
   ],
   "source": [
    "# Transferring to Excel and creating the download link:\n",
    "df_VADER.to_excel('df_VADER.xlsx', index=False)\n",
    "FileLink(r'df_VADER.xlsx')"
   ]
  },
  {
   "cell_type": "code",
   "execution_count": null,
   "id": "5a12d546",
   "metadata": {},
   "outputs": [],
   "source": []
  }
 ],
 "metadata": {
  "kernelspec": {
   "display_name": "Python 3 (ipykernel)",
   "language": "python",
   "name": "python3"
  },
  "language_info": {
   "codemirror_mode": {
    "name": "ipython",
    "version": 3
   },
   "file_extension": ".py",
   "mimetype": "text/x-python",
   "name": "python",
   "nbconvert_exporter": "python",
   "pygments_lexer": "ipython3",
   "version": "3.10.9"
  }
 },
 "nbformat": 4,
 "nbformat_minor": 5
}
